{
 "cells": [
  {
   "cell_type": "code",
   "execution_count": 1,
   "metadata": {},
   "outputs": [],
   "source": [
    "%load_ext autoreload\n",
    "%autoreload 2\n",
    "from models.ddm_ll import Lap_Pyramid_Conv\n",
    "import matplotlib.pyplot as plt\n",
    "import torch\n",
    "import cv2\n",
    "import numpy as np\n",
    "from torchvision.transforms.functional import to_pil_image"
   ]
  },
  {
   "cell_type": "code",
   "execution_count": null,
   "metadata": {},
   "outputs": [],
   "source": []
  },
  {
   "cell_type": "code",
   "execution_count": 21,
   "metadata": {},
   "outputs": [],
   "source": [
    "img = cv2.imread(\"/datasata/xuronghao/coding/imgs/262A3283.png\")\n",
    "img = torch.from_numpy((img / 255.0).transpose(2, 0, 1).astype(np.float32)).unsqueeze(0)"
   ]
  },
  {
   "cell_type": "code",
   "execution_count": null,
   "metadata": {},
   "outputs": [],
   "source": [
    "x = torch.randn(1, 3, 256, 256).to(torch.device('cuda:1'))"
   ]
  },
  {
   "cell_type": "code",
   "execution_count": 22,
   "metadata": {},
   "outputs": [],
   "source": [
    "lpm = Lap_Pyramid_Conv(2, in_chans=3)"
   ]
  },
  {
   "cell_type": "code",
   "execution_count": 23,
   "metadata": {},
   "outputs": [],
   "source": [
    "out = lpm.pyramid_decom(img)"
   ]
  },
  {
   "cell_type": "code",
   "execution_count": null,
   "metadata": {},
   "outputs": [],
   "source": [
    "fig, axes = plt.subplots(len(out), 2, figsize=(10, 5))  # 创建 1 行 2 列的子图\n",
    "for i in range(len(out)):\n",
    "    # Step 1: 提取 high_tensor 和 low_tensor，并去掉 batch 维度\n",
    "    high_tensor = out[i][0].squeeze(0)  # 形状变为 [3, H, W]\n",
    "    low_tensor = out[i][1].squeeze(0)   # 形状变为 [3, H, W]\n",
    "\n",
    "    # Step 2: 检查值范围并归一化到 [0, 1]\n",
    "    if high_tensor.max() > 1:\n",
    "        high_tensor = high_tensor / 255.0\n",
    "    if low_tensor.max() > 1:\n",
    "        low_tensor = low_tensor / 255.0\n",
    "\n",
    "    # Step 3: 将 Tensor 转换为 PIL 图像\n",
    "    high_image = to_pil_image(high_tensor)\n",
    "    low_image = to_pil_image(low_tensor)\n",
    "\n",
    "    # Step 4: 使用 matplotlib 显示 high 和 low 图像\n",
    "    axes[i][0].imshow(high_image)\n",
    "    axes[i][0].set_title(f\"High Resolution {high_tensor.shape[1], high_tensor.shape[2]}\")\n",
    "    axes[i][0].axis('off')  # 关闭坐标轴\n",
    "\n",
    "    axes[i][1].imshow(low_image)\n",
    "    axes[i][1].set_title(f\"Low Resolution {high_tensor.shape[1], high_tensor.shape[2]}\")\n",
    "    axes[i][1].axis('off')  # 关闭坐标轴\n",
    "\n",
    "plt.tight_layout()  # 自动调整子图间距\n",
    "plt.show()"
   ]
  },
  {
   "cell_type": "code",
   "execution_count": null,
   "metadata": {},
   "outputs": [],
   "source": [
    "from diffusers import DiffusionPipeline\n",
    "import torch\n",
    "import matplotlib.pyplot as plt\n",
    "\n",
    "# 指定模型路径\n",
    "model_id = \"/datadisk2/xuronghao/hf_home/hub/models--stabilityai--stable-diffusion-2/snapshots/1e128c8891e52218b74cde8f26dbfc701cb99d79\"\n",
    "\n",
    "# 加载模型\n",
    "pipeline = DiffusionPipeline.from_pretrained(\n",
    "    model_id,\n",
    "    use_safetensors=True,\n",
    "    torch_dtype=torch.float16\n",
    ")\n",
    "device = \"cuda:0\" if torch.cuda.is_available() else \"cpu\"\n",
    "pipeline = pipeline.to(device)\n",
    "\n"
   ]
  },
  {
   "cell_type": "code",
   "execution_count": null,
   "metadata": {},
   "outputs": [],
   "source": [
    "# 输入提示词\n",
    "prompt = \"A gym\"\n",
    "\n",
    "# 生成图像\n",
    "with torch.autocast(\"cuda\"):\n",
    "    image = pipeline(prompt, num_inference_steps=25).images[0]\n",
    "\n",
    "# 使用 matplotlib 显示图像\n",
    "plt.figure()  # 设置图像大小\n",
    "plt.imshow(image)             # 显示图像\n",
    "plt.axis(\"off\")               # 关闭坐标轴\n",
    "plt.show()"
   ]
  },
  {
   "cell_type": "code",
   "execution_count": null,
   "metadata": {},
   "outputs": [],
   "source": [
    "from diffusers import DDPMScheduler, UNet2DModel\n",
    "\n",
    "model_path = \"/datadisk2/xuronghao/hf_home/hub/models--google--ddpm-cat-256/snapshots/82ca0d5db4a5ec6ff0e9be8d86852490bc18a3d9\"\n",
    "scheduler = DDPMScheduler.from_pretrained(model_path)\n",
    "model = UNet2DModel.from_pretrained(model_path, use_safetensors=True).to(\"cuda\")"
   ]
  },
  {
   "cell_type": "code",
   "execution_count": null,
   "metadata": {},
   "outputs": [],
   "source": [
    "scheduler.set_timesteps(100)\n",
    "scheduler.timesteps"
   ]
  },
  {
   "cell_type": "code",
   "execution_count": null,
   "metadata": {},
   "outputs": [],
   "source": [
    "from matplotlib.widgets import Slider\n",
    "import matplotlib.pyplot as plt\n",
    "import torch\n",
    "from PIL import Image\n",
    "import numpy as np\n",
    "import ipywidgets as widgets\n",
    "from IPython.display import display, clear_output\n",
    "\n",
    "sample_size = model.config.sample_size\n",
    "noise = torch.randn((1, 3, sample_size, sample_size), device=\"cuda\")\n",
    "input = noise\n",
    "\n",
    "# 保存每个时间步生成的图像\n",
    "images = []\n",
    "\n",
    "for t in scheduler.timesteps:\n",
    "    with torch.no_grad():\n",
    "        noisy_residual = model(input, t).sample\n",
    "    previous_noisy_sample = scheduler.step(noisy_residual, t, input).prev_sample\n",
    "    input = previous_noisy_sample\n",
    "\n",
    "    # 处理图像\n",
    "    image = (input / 2 + 0.5).clamp(0, 1).squeeze()\n",
    "    image = (image.permute(1, 2, 0) * 255).round().to(torch.uint8).cpu().numpy()\n",
    "    images.append(image)\n",
    "\n",
    "# 创建滑动条\n",
    "slider = widgets.IntSlider(\n",
    "    value=0,  # 初始值\n",
    "    min=0,  # 最小值\n",
    "    max=len(scheduler.timesteps) - 1,  # 最大值\n",
    "    step=1,  # 步长\n",
    "    description='Timestep:',  # 滑动条标签\n",
    "    continuous_update=False  # 只有在松开滑动条时更新\n",
    ")\n",
    "\n",
    "# 更新函数\n",
    "def update_image(t):\n",
    "    clear_output(wait=True)  # 清除之前的输出\n",
    "    plt.figure(figsize=(6, 6))\n",
    "    plt.imshow(images[t])\n",
    "    plt.axis('off')  # 关闭坐标轴\n",
    "    plt.title(f\"Timestep: {t}\")\n",
    "    plt.show()\n",
    "\n",
    "# 绑定滑动条和更新函数\n",
    "interactive_plot = widgets.interactive(update_image, t=slider)\n",
    "\n",
    "# 显示滑动条和图像\n",
    "display(interactive_plot)\n"
   ]
  },
  {
   "cell_type": "code",
   "execution_count": null,
   "metadata": {},
   "outputs": [],
   "source": []
  }
 ],
 "metadata": {
  "kernelspec": {
   "display_name": "Python 3",
   "language": "python",
   "name": "python3"
  },
  "language_info": {
   "codemirror_mode": {
    "name": "ipython",
    "version": 3
   },
   "file_extension": ".py",
   "mimetype": "text/x-python",
   "name": "python",
   "nbconvert_exporter": "python",
   "pygments_lexer": "ipython3",
   "version": "3.8.20"
  }
 },
 "nbformat": 4,
 "nbformat_minor": 2
}
